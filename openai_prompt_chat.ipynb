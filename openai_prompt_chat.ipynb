{
  "nbformat": 4,
  "nbformat_minor": 0,
  "metadata": {
    "colab": {
      "provenance": [],
      "authorship_tag": "ABX9TyPuaniHe82PzzN+ZnA8JCkR",
      "include_colab_link": true
    },
    "kernelspec": {
      "name": "python3",
      "display_name": "Python 3"
    },
    "language_info": {
      "name": "python"
    }
  },
  "cells": [
    {
      "cell_type": "markdown",
      "metadata": {
        "id": "view-in-github",
        "colab_type": "text"
      },
      "source": [
        "<a href=\"https://colab.research.google.com/github/Navdeep27/AI-ML/blob/Training/openai_prompt_chat.ipynb\" target=\"_parent\"><img src=\"https://colab.research.google.com/assets/colab-badge.svg\" alt=\"Open In Colab\"/></a>"
      ]
    },
    {
      "cell_type": "code",
      "execution_count": null,
      "metadata": {
        "id": "EqltwikJWq7f"
      },
      "outputs": [],
      "source": [
        "import openai\n",
        "prompt1 = \"\"\"You will be provided with a text, and your task is to create a numbered list of turn-by-turn directions from it:\n",
        "JP Nagar, 3rd Phase, Pothanur Raod, Bangalore, India to  Mysore, Karnataka, India\"\"\"\n",
        "messages = [{\"role\": \"user\", \"content\": prompt1}]\n",
        "openai.api_key = \"\"\n",
        "response = openai.ChatCompletion.create(\n",
        "  model=\"gpt-3.5-turbo\",\n",
        "  messages=messages,\n",
        "  temperature=1,\n",
        "  max_tokens=1024\n",
        ")\n",
        "print(response)\n",
        "print(response['choices'][0].message[\"content\"])"
      ]
    }
  ]
}