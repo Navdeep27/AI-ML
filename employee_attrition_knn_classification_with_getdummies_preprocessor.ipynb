{
  "nbformat": 4,
  "nbformat_minor": 0,
  "metadata": {
    "colab": {
      "provenance": [],
      "authorship_tag": "ABX9TyNB3tZPyecjgNJhxo9f8is/",
      "include_colab_link": true
    },
    "kernelspec": {
      "name": "python3",
      "display_name": "Python 3"
    },
    "language_info": {
      "name": "python"
    }
  },
  "cells": [
    {
      "cell_type": "markdown",
      "metadata": {
        "id": "view-in-github",
        "colab_type": "text"
      },
      "source": [
        "<a href=\"https://colab.research.google.com/github/Navdeep27/AI-ML/blob/main/employee_attrition_knn_classification_with_getdummies_preprocessor.ipynb\" target=\"_parent\"><img src=\"https://colab.research.google.com/assets/colab-badge.svg\" alt=\"Open In Colab\"/></a>"
      ]
    },
    {
      "cell_type": "markdown",
      "source": [
        "\n",
        "# step 1: import the modules and frameworks"
      ],
      "metadata": {
        "id": "rQ7AiuYDNZqE"
      }
    },
    {
      "cell_type": "code",
      "execution_count": 137,
      "metadata": {
        "id": "IYmd_NGr5YTd"
      },
      "outputs": [],
      "source": [
        "# KNN Classification\n",
        "from pandas import read_csv\n",
        "import pandas as pd\n",
        "from sklearn.preprocessing import StandardScaler\n",
        "from sklearn.model_selection import train_test_split\n",
        "from sklearn.neighbors import KNeighborsClassifier\n",
        "from sklearn.metrics import classification_report, accuracy_score"
      ]
    },
    {
      "cell_type": "markdown",
      "source": [
        "# step 2: acquire the data"
      ],
      "metadata": {
        "id": "0vd2QayeNgpO"
      }
    },
    {
      "cell_type": "code",
      "source": [
        "filename = 'https://raw.githubusercontent.com/Navdeep27/AI-ML/refs/heads/main/employee_attrition_knn_classification_train.csv'\n",
        "df = read_csv(filename)\n",
        "print(df)"
      ],
      "metadata": {
        "colab": {
          "base_uri": "https://localhost:8080/"
        },
        "id": "hrAqHAUuDIe-",
        "outputId": "0de04353-ce74-4949-b696-8480f4a1e471"
      },
      "execution_count": 138,
      "outputs": [
        {
          "output_type": "stream",
          "name": "stdout",
          "text": [
            "   Age                JobRole  MonthlyIncome  JobSatisfaction  YearsAtCompany  \\\n",
            "0   29        Sales Executive           4800                3               4   \n",
            "1   35     Research Scientist           6000                4               8   \n",
            "2   40  Laboratory Technician           3400                2               6   \n",
            "3   28        Sales Executive           4300                3               3   \n",
            "4   45                Manager          11000                4              15   \n",
            "5   25     Research Scientist           3500                1               2   \n",
            "6   50                Manager          12000                4              20   \n",
            "7   30        Sales Executive           5000                2               5   \n",
            "8   37  Laboratory Technician           3100                2               9   \n",
            "9   26     Research Scientist           4500                3               2   \n",
            "\n",
            "   Attrition  \n",
            "0          1  \n",
            "1          0  \n",
            "2          0  \n",
            "3          1  \n",
            "4          0  \n",
            "5          1  \n",
            "6          0  \n",
            "7          0  \n",
            "8          0  \n",
            "9          1  \n"
          ]
        }
      ]
    },
    {
      "cell_type": "markdown",
      "source": [
        "# step 3: preprocess the data"
      ],
      "metadata": {
        "id": "_I1-BwBrSr18"
      }
    },
    {
      "cell_type": "code",
      "source": [
        "# Convert categorical variable into dummy/indicator variables\n",
        "preprocess_df = pd.get_dummies(df, columns=['JobRole'])\n",
        "print(preprocess_df)"
      ],
      "metadata": {
        "colab": {
          "base_uri": "https://localhost:8080/"
        },
        "id": "CoKiGEVASyDc",
        "outputId": "e5dfc59b-020f-441a-b811-cb634f99ed5e"
      },
      "execution_count": 139,
      "outputs": [
        {
          "output_type": "stream",
          "name": "stdout",
          "text": [
            "   Age  MonthlyIncome  JobSatisfaction  YearsAtCompany  Attrition  \\\n",
            "0   29           4800                3               4          1   \n",
            "1   35           6000                4               8          0   \n",
            "2   40           3400                2               6          0   \n",
            "3   28           4300                3               3          1   \n",
            "4   45          11000                4              15          0   \n",
            "5   25           3500                1               2          1   \n",
            "6   50          12000                4              20          0   \n",
            "7   30           5000                2               5          0   \n",
            "8   37           3100                2               9          0   \n",
            "9   26           4500                3               2          1   \n",
            "\n",
            "   JobRole_Laboratory Technician  JobRole_Manager  JobRole_Research Scientist  \\\n",
            "0                          False            False                       False   \n",
            "1                          False            False                        True   \n",
            "2                           True            False                       False   \n",
            "3                          False            False                       False   \n",
            "4                          False             True                       False   \n",
            "5                          False            False                        True   \n",
            "6                          False             True                       False   \n",
            "7                          False            False                       False   \n",
            "8                           True            False                       False   \n",
            "9                          False            False                        True   \n",
            "\n",
            "   JobRole_Sales Executive  \n",
            "0                     True  \n",
            "1                    False  \n",
            "2                    False  \n",
            "3                     True  \n",
            "4                    False  \n",
            "5                    False  \n",
            "6                    False  \n",
            "7                     True  \n",
            "8                    False  \n",
            "9                    False  \n"
          ]
        }
      ]
    },
    {
      "cell_type": "markdown",
      "source": [
        "# step 4: inspect the data and segregate the input and output"
      ],
      "metadata": {
        "id": "B7SxdsF5NlOY"
      }
    },
    {
      "cell_type": "code",
      "source": [
        "inputx = preprocess_df.drop('Attrition', axis=1)\n",
        "outputy = preprocess_df['Attrition']\n",
        "print(inputx)\n",
        "print(outputy)"
      ],
      "metadata": {
        "colab": {
          "base_uri": "https://localhost:8080/"
        },
        "id": "ISKKss8BNl_U",
        "outputId": "d66a29f8-7172-4721-9169-e2930f5ff604"
      },
      "execution_count": 140,
      "outputs": [
        {
          "output_type": "stream",
          "name": "stdout",
          "text": [
            "   Age  MonthlyIncome  JobSatisfaction  YearsAtCompany  \\\n",
            "0   29           4800                3               4   \n",
            "1   35           6000                4               8   \n",
            "2   40           3400                2               6   \n",
            "3   28           4300                3               3   \n",
            "4   45          11000                4              15   \n",
            "5   25           3500                1               2   \n",
            "6   50          12000                4              20   \n",
            "7   30           5000                2               5   \n",
            "8   37           3100                2               9   \n",
            "9   26           4500                3               2   \n",
            "\n",
            "   JobRole_Laboratory Technician  JobRole_Manager  JobRole_Research Scientist  \\\n",
            "0                          False            False                       False   \n",
            "1                          False            False                        True   \n",
            "2                           True            False                       False   \n",
            "3                          False            False                       False   \n",
            "4                          False             True                       False   \n",
            "5                          False            False                        True   \n",
            "6                          False             True                       False   \n",
            "7                          False            False                       False   \n",
            "8                           True            False                       False   \n",
            "9                          False            False                        True   \n",
            "\n",
            "   JobRole_Sales Executive  \n",
            "0                     True  \n",
            "1                    False  \n",
            "2                    False  \n",
            "3                     True  \n",
            "4                    False  \n",
            "5                    False  \n",
            "6                    False  \n",
            "7                     True  \n",
            "8                    False  \n",
            "9                    False  \n",
            "0    1\n",
            "1    0\n",
            "2    0\n",
            "3    1\n",
            "4    0\n",
            "5    1\n",
            "6    0\n",
            "7    0\n",
            "8    0\n",
            "9    1\n",
            "Name: Attrition, dtype: int64\n"
          ]
        }
      ]
    },
    {
      "cell_type": "markdown",
      "source": [
        "#step 5 : Split the data for training and testing in ratio 0.7/0.3"
      ],
      "metadata": {
        "id": "ejSoIrD1krkA"
      }
    },
    {
      "cell_type": "code",
      "source": [
        "# Split the data into training and testing sets\n",
        "X_train, X_test, y_train, y_test = train_test_split(inputx, outputy, test_size=0.3, random_state=41)\n",
        "\n",
        "# Standardize the features\n",
        "scaler = StandardScaler()\n",
        "X_train = scaler.fit_transform(X_train)\n",
        "X_test = scaler.transform(X_test)\n",
        "\n",
        "print(X_train)\n",
        "print(X_test)"
      ],
      "metadata": {
        "colab": {
          "base_uri": "https://localhost:8080/"
        },
        "id": "Y7sXDEohk2h-",
        "outputId": "fbfc9060-447f-4ad1-f258-e0769ab54b23"
      },
      "execution_count": 141,
      "outputs": [
        {
          "output_type": "stream",
          "name": "stdout",
          "text": [
            "[[ 0.42066707 -0.88435671 -1.32287566  0.55337157  1.58113883 -0.40824829\n",
            "  -0.63245553 -0.63245553]\n",
            " [ 0.11070186  0.28138623  1.32287566  0.31127151 -0.63245553 -0.40824829\n",
            "   1.58113883 -0.63245553]\n",
            " [-1.28414158 -0.32158426  0.         -1.14132887 -0.63245553 -0.40824829\n",
            "   1.58113883 -0.63245553]\n",
            " [ 0.88561489 -0.76376262 -1.32287566 -0.17292862  1.58113883 -0.40824829\n",
            "  -0.63245553 -0.63245553]\n",
            " [ 1.66052791  2.29128785  1.32287566  2.00597195 -0.63245553  2.44948974\n",
            "  -0.63245553 -0.63245553]\n",
            " [-0.97417637 -0.40198032  0.         -0.8992288  -0.63245553 -0.40824829\n",
            "  -0.63245553  1.58113883]\n",
            " [-0.81919377 -0.20099016  0.         -0.65712874 -0.63245553 -0.40824829\n",
            "  -0.63245553  1.58113883]]\n",
            "[[-1.43912419 -0.72356458 -2.64575131 -1.14132887 -0.63245553 -0.40824829\n",
            "   1.58113883 -0.63245553]\n",
            " [ 2.43544094  2.69326817  1.32287566  3.21647226 -0.63245553  2.44948974\n",
            "  -0.63245553 -0.63245553]\n",
            " [-0.66421116 -0.1205941  -1.32287566 -0.41502868 -0.63245553 -0.40824829\n",
            "  -0.63245553  1.58113883]]\n"
          ]
        }
      ]
    },
    {
      "cell_type": "markdown",
      "source": [
        "# step 6 : select the model"
      ],
      "metadata": {
        "id": "r2ApDZB5ODhU"
      }
    },
    {
      "cell_type": "code",
      "source": [
        "thismodel = KNeighborsClassifier()"
      ],
      "metadata": {
        "id": "HS2X3uCzlWr5"
      },
      "execution_count": 147,
      "outputs": []
    },
    {
      "cell_type": "markdown",
      "source": [
        "# step 7 : train the model"
      ],
      "metadata": {
        "id": "6FUSVkMgOGzd"
      }
    },
    {
      "cell_type": "code",
      "source": [
        "print(\"\\nThe parameters of the model are\\n\\n\",thismodel.get_params())\n",
        "print(thismodel.fit(X_train,y_train))"
      ],
      "metadata": {
        "colab": {
          "base_uri": "https://localhost:8080/"
        },
        "id": "Z8h64yYsOJRk",
        "outputId": "8fd1dbac-f01d-4b36-f1ce-9a73b47b2986"
      },
      "execution_count": 148,
      "outputs": [
        {
          "output_type": "stream",
          "name": "stdout",
          "text": [
            "\n",
            "The parameters of the model are\n",
            "\n",
            " {'algorithm': 'auto', 'leaf_size': 30, 'metric': 'minkowski', 'metric_params': None, 'n_jobs': None, 'n_neighbors': 3, 'p': 2, 'weights': 'uniform'}\n",
            "KNeighborsClassifier(n_neighbors=3)\n"
          ]
        }
      ]
    },
    {
      "cell_type": "markdown",
      "source": [
        "# step 8: predict the test data"
      ],
      "metadata": {
        "id": "NPe_Bd5_VZ5E"
      }
    },
    {
      "cell_type": "code",
      "source": [
        "# Predict on the test set\n",
        "y_pred = thismodel.predict(X_test)"
      ],
      "metadata": {
        "id": "q1K7o5flVbJs"
      },
      "execution_count": 149,
      "outputs": []
    },
    {
      "cell_type": "markdown",
      "source": [
        "# step 9: print the results"
      ],
      "metadata": {
        "id": "pnfMFLTjW24f"
      }
    },
    {
      "cell_type": "code",
      "source": [
        "reslist=[]\n",
        "for val in y_pred:\n",
        "    if val==0:\n",
        "        reslist.append(\"No\")\n",
        "    else:\n",
        "        reslist.append(\"Yes\")\n",
        "print(reslist)"
      ],
      "metadata": {
        "colab": {
          "base_uri": "https://localhost:8080/"
        },
        "id": "CgaHuSt0W4LV",
        "outputId": "a6f589be-9bca-4305-a7ac-c1044a1b1b65"
      },
      "execution_count": 150,
      "outputs": [
        {
          "output_type": "stream",
          "name": "stdout",
          "text": [
            "['Yes', 'No', 'Yes']\n"
          ]
        }
      ]
    },
    {
      "cell_type": "markdown",
      "source": [
        "#step 10 : # Evaluate the model"
      ],
      "metadata": {
        "id": "8FJcALx9jRUG"
      }
    },
    {
      "cell_type": "code",
      "source": [
        "print(\"Accuracy:\", accuracy_score(y_test, y_pred))\n",
        "print(\"Classification Report:\\n\", classification_report(y_test, y_pred))"
      ],
      "metadata": {
        "colab": {
          "base_uri": "https://localhost:8080/"
        },
        "id": "WuxfTMWRjWuT",
        "outputId": "e4f448c5-bdb0-464e-b153-2213d931e2ec"
      },
      "execution_count": 151,
      "outputs": [
        {
          "output_type": "stream",
          "name": "stdout",
          "text": [
            "Accuracy: 0.6666666666666666\n",
            "Classification Report:\n",
            "               precision    recall  f1-score   support\n",
            "\n",
            "           0       1.00      0.50      0.67         2\n",
            "           1       0.50      1.00      0.67         1\n",
            "\n",
            "    accuracy                           0.67         3\n",
            "   macro avg       0.75      0.75      0.67         3\n",
            "weighted avg       0.83      0.67      0.67         3\n",
            "\n"
          ]
        }
      ]
    }
  ]
}