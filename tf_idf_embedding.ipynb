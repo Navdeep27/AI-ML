{
  "nbformat": 4,
  "nbformat_minor": 0,
  "metadata": {
    "colab": {
      "provenance": [],
      "authorship_tag": "ABX9TyP/g26ukiNNCuGjY05m8hA7",
      "include_colab_link": true
    },
    "kernelspec": {
      "name": "python3",
      "display_name": "Python 3"
    },
    "language_info": {
      "name": "python"
    }
  },
  "cells": [
    {
      "cell_type": "markdown",
      "metadata": {
        "id": "view-in-github",
        "colab_type": "text"
      },
      "source": [
        "<a href=\"https://colab.research.google.com/github/Navdeep27/AI-ML/blob/Assignments/tf_idf_embedding.ipynb\" target=\"_parent\"><img src=\"https://colab.research.google.com/assets/colab-badge.svg\" alt=\"Open In Colab\"/></a>"
      ]
    },
    {
      "cell_type": "code",
      "execution_count": 1,
      "metadata": {
        "id": "NJVlb5I6fIuA"
      },
      "outputs": [],
      "source": [
        "from sklearn.feature_extraction.text import TfidfVectorizer"
      ]
    },
    {
      "cell_type": "code",
      "source": [
        "# Sample corpus\n",
        "corpus = [\n",
        "    \"today is a beautiful day\",\n",
        "    \"Learning is a life long journy\",\n",
        "    \"focusing on today is adding happiness in this long journy\"\n",
        "]\n"
      ],
      "metadata": {
        "id": "LWEezMPFfmij"
      },
      "execution_count": 8,
      "outputs": []
    },
    {
      "cell_type": "code",
      "source": [
        "# Initialize the TfidfVectorizer\n",
        "vectorizer = TfidfVectorizer()\n",
        "\n",
        "# Fit and transform the corpus to TF-IDF vectors\n",
        "X = vectorizer.fit_transform(corpus)\n",
        "\n",
        "# Convert the TF-IDF matrix to an array\n",
        "tfidf_array = X.toarray()\n",
        "\n",
        "# Get the feature names (vocabulary)\n",
        "feature_names = vectorizer.get_feature_names_out()\n"
      ],
      "metadata": {
        "id": "aGxEOTjRfsMi"
      },
      "execution_count": 9,
      "outputs": []
    },
    {
      "cell_type": "code",
      "source": [
        "print(\"Vocabulary:\", feature_names)\n",
        "print(\"\")\n",
        "print(\"TF-IDF Matrix:\\n\", tfidf_array)"
      ],
      "metadata": {
        "colab": {
          "base_uri": "https://localhost:8080/"
        },
        "id": "Dn-AfM1KfvE2",
        "outputId": "8fab4bdd-5ff9-4c4c-9dab-ddcbd65f2841"
      },
      "execution_count": 11,
      "outputs": [
        {
          "output_type": "stream",
          "name": "stdout",
          "text": [
            "Vocabulary: ['adding' 'beautiful' 'day' 'focusing' 'happiness' 'in' 'is' 'journy'\n",
            " 'learning' 'life' 'long' 'on' 'this' 'today']\n",
            "\n",
            "TF-IDF Matrix:\n",
            " [[0.         0.5844829  0.5844829  0.         0.         0.\n",
            "  0.34520502 0.         0.         0.         0.         0.\n",
            "  0.         0.44451431]\n",
            " [0.         0.         0.         0.         0.         0.\n",
            "  0.31544415 0.40619178 0.53409337 0.53409337 0.40619178 0.\n",
            "  0.         0.        ]\n",
            " [0.35171117 0.         0.         0.35171117 0.35171117 0.35171117\n",
            "  0.20772628 0.26748541 0.         0.         0.26748541 0.35171117\n",
            "  0.35171117 0.26748541]]\n"
          ]
        }
      ]
    }
  ]
}