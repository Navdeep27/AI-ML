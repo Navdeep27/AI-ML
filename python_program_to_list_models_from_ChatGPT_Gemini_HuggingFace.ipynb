{
  "nbformat": 4,
  "nbformat_minor": 0,
  "metadata": {
    "colab": {
      "provenance": [],
      "authorship_tag": "ABX9TyMqvyKalTbWhOmyVW+dvDqY",
      "include_colab_link": true
    },
    "kernelspec": {
      "name": "python3",
      "display_name": "Python 3"
    },
    "language_info": {
      "name": "python"
    }
  },
  "cells": [
    {
      "cell_type": "markdown",
      "metadata": {
        "id": "view-in-github",
        "colab_type": "text"
      },
      "source": [
        "<a href=\"https://colab.research.google.com/github/Navdeep27/AI-ML/blob/Assignments/python_program_to_list_models_from_ChatGPT_Gemini_HuggingFace.ipynb\" target=\"_parent\"><img src=\"https://colab.research.google.com/assets/colab-badge.svg\" alt=\"Open In Colab\"/></a>"
      ]
    },
    {
      "cell_type": "code",
      "execution_count": 3,
      "metadata": {
        "colab": {
          "base_uri": "https://localhost:8080/"
        },
        "id": "QfLGawdRhiwB",
        "outputId": "8e74e6ef-cdbe-4f7d-9194-82d622f0b43b"
      },
      "outputs": [
        {
          "output_type": "stream",
          "name": "stdout",
          "text": [
            "Qwen/QwQ-32B\n",
            "microsoft/Phi-4-multimodal-instruct\n",
            "deepseek-ai/DeepSeek-R1\n",
            "Wan-AI/Wan2.1-T2V-14B\n",
            "allenai/olmOCR-7B-0225-preview\n",
            "perplexity-ai/r1-1776\n",
            "microsoft/Phi-4-mini-instruct\n",
            "CohereForAI/aya-vision-8b\n",
            "microsoft/Magma-8B\n",
            "Comfy-Org/Wan_2.1_ComfyUI_repackaged\n",
            "black-forest-labs/FLUX.1-dev\n",
            "THUDM/CogView4-6B\n",
            "Wan-AI/Wan2.1-I2V-14B-720P\n",
            "GSAI-ML/LLaDA-8B-Instruct\n",
            "Kijai/WanVideo_comfy\n",
            "hexgrad/Kokoro-82M\n",
            "CohereForAI/aya-vision-32b\n",
            "microsoft/OmniParser-v2.0\n",
            "qihoo360/TinyR1-32B-Preview\n",
            "Wan-AI/Wan2.1-T2V-1.3B\n",
            "chandar-lab/NeoBERT\n",
            "SparkAudio/Spark-TTS-0.5B\n",
            "ASLP-lab/DiffRhythm-base\n",
            "tencent/HunyuanVideo-I2V\n",
            "CohereForAI/c4ai-command-r7b-arabic-02-2025\n",
            "stabilityai/stable-diffusion-3.5-large\n",
            "bartowski/Qwen_QwQ-32B-GGUF\n",
            "nvidia/DeepSeek-R1-FP4\n",
            "microsoft/phi-4\n",
            "meta-llama/Llama-3.3-70B-Instruct\n",
            "city96/Wan2.1-I2V-14B-480P-gguf\n",
            "agents-course/notebooks\n",
            "ElectricAlexis/NotaGen\n",
            "Qwen/QwQ-32B-GGUF\n",
            "lodestones/Chroma\n",
            "convergence-ai/proxy-lite-3b\n",
            "Qwen/QwQ-32B-Preview\n",
            "city96/Wan2.1-T2V-14B-gguf\n",
            "Qwen/Qwen2.5-VL-7B-Instruct\n",
            "deepseek-ai/Janus-Pro-7B\n",
            "deepseek-ai/DeepSeek-R1-Distill-Qwen-1.5B\n",
            "deepseek-ai/DeepSeek-V3\n",
            "hexgrad/Kokoro-82M-v1.1-zh\n",
            "Qwen/QwQ-32B-AWQ\n",
            "meta-llama/Llama-3.2-3B-Instruct\n",
            "meta-llama/Llama-3.1-8B-Instruct\n",
            "openai/whisper-large-v3-turbo\n",
            "deepseek-ai/DeepSeek-R1-Distill-Qwen-32B\n",
            "unsloth/DeepSeek-R1-GGUF\n",
            "TheDrummer/Fallen-Llama-3.3-R1-70B-v1\n",
            "Wan-AI/Wan2.1-I2V-14B-480P\n",
            "sentence-transformers/all-MiniLM-L6-v2\n",
            "coqui/XTTS-v2\n",
            "mistralai/Mistral-7B-Instruct-v0.3\n",
            "tensorart/stable-diffusion-3.5-large-TurboX\n",
            "yandex/YandexGPT-5-Lite-8B-pretrain\n",
            "tencent/Hunyuan3D-2\n",
            "openai/whisper-large-v3\n",
            "city96/Wan2.1-I2V-14B-720P-gguf\n",
            "Camais03/camie-tagger\n",
            "Lightricks/LTX-Video\n",
            "tencent/HunyuanVideo\n",
            "ibm-granite/granite-3.2-8b-instruct\n",
            "microsoft/Phi-4-multimodal-instruct-onnx\n",
            "ibm-granite/granite-vision-3.2-2b\n",
            "stable-diffusion-v1-5/stable-diffusion-v1-5\n",
            "BAAI/bge-m3\n",
            "Qwen/Qwen2.5-Coder-32B-Instruct\n",
            "Qodo/Qodo-Embed-1-1.5B\n",
            "calcuis/wan-gguf\n",
            "HuggingFaceTB/SmolVLM2-2.2B-Instruct\n",
            "ASLP-lab/DiffRhythm-vae\n",
            "black-forest-labs/FLUX.1-schnell\n",
            "mistralai/Mistral-Small-24B-Instruct-2501\n",
            "GSAI-ML/LLaDA-8B-Base\n",
            "Undi95/MistralThinker-v1.1\n",
            "qihoo360/Light-R1-32B\n",
            "meta-llama/Llama-3.1-8B\n",
            "deepseek-ai/DeepSeek-R1-Distill-Qwen-7B\n",
            "ibm-granite/granite-3.2-2b-instruct\n",
            "stabilityai/stable-diffusion-xl-base-1.0\n",
            "deepseek-ai/DeepSeek-R1-Distill-Llama-8B\n",
            "Qwen/Qwen2.5-VL-72B-Instruct\n",
            "stepfun-ai/stepvideo-t2v\n",
            "perplexity-ai/r1-1776-distill-llama-70b\n",
            "google-bert/bert-base-uncased\n",
            "meta-llama/Llama-2-7b-chat-hf\n",
            "Kijai/HunyuanVideo_comfy\n",
            "jinaai/ReaderLM-v2\n",
            "stepfun-ai/Step-Audio-Chat\n",
            "dashtoon/hunyuan-video-keyframe-control-lora\n",
            "unsloth/Phi-4-mini-instruct-GGUF\n",
            "mistralai/Mistral-7B-v0.1\n",
            "openbmb/MiniCPM-o-2_6\n",
            "agentica-org/DeepScaleR-1.5B-Preview\n",
            "Zyphra/Zonos-v0.1-hybrid\n",
            "Kijai/SkyReels-V1-Hunyuan_comfy\n",
            "fffiloni/cozy-book-800\n",
            "bartowski/microsoft_Phi-4-mini-instruct-GGUF\n",
            "Mungert/Phi-4-mini-instruct.gguf\n"
          ]
        }
      ],
      "source": [
        "import requests\n",
        "def search_models(query, limit=100):\n",
        "  url = f\"https://huggingface.co/api/models?search={query}&limit={limit}\"\n",
        "  response = requests.get(url)\n",
        "  return response.json()\n",
        "\n",
        "models = search_models(\"\")\n",
        "for m in models:\n",
        "  print(m['id'])"
      ]
    }
  ]
}