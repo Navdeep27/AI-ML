{
  "cells": [
    {
      "cell_type": "code",
      "execution_count": 14,
      "metadata": {
        "colab": {
          "base_uri": "https://localhost:8080/"
        },
        "id": "QfLGawdRhiwB",
        "outputId": "eef85ed8-4e46-4286-8cf1-07e034084c58"
      },
      "outputs": [
        {
          "name": "stdout",
          "output_type": "stream",
          "text": [
            "Qwen/QwQ-32B\n",
            "deepseek-ai/DeepSeek-R1\n",
            "microsoft/Phi-4-multimodal-instruct\n",
            "CohereForAI/aya-vision-8b\n",
            "SparkAudio/Spark-TTS-0.5B\n",
            "tencent/HunyuanVideo-I2V\n",
            "Wan-AI/Wan2.1-T2V-14B\n",
            "CohereForAI/aya-vision-32b\n",
            "allenai/olmOCR-7B-0225-preview\n",
            "black-forest-labs/FLUX.1-dev\n",
            "THUDM/CogView4-6B\n",
            "bartowski/Qwen_QwQ-32B-GGUF\n",
            "Qwen/QwQ-32B-GGUF\n",
            "perplexity-ai/r1-1776\n",
            "ASLP-lab/DiffRhythm-base\n",
            "lodestones/Chroma\n",
            "hexgrad/Kokoro-82M\n",
            "Comfy-Org/Wan_2.1_ComfyUI_repackaged\n",
            "microsoft/Phi-4-mini-instruct\n",
            "Qwen/QwQ-32B-AWQ\n",
            "Qwen/QwQ-32B-Preview\n",
            "GSAI-ML/LLaDA-8B-Instruct\n",
            "stabilityai/stable-diffusion-3.5-large\n",
            "ElectricAlexis/NotaGen\n",
            "microsoft/OmniParser-v2.0\n",
            "Wan-AI/Wan2.1-I2V-14B-720P\n",
            "huihui-ai/DeepSeek-671B-abliterated\n",
            "Lightricks/LTX-Video\n",
            "microsoft/Magma-8B\n",
            "agents-course/notebooks\n",
            "Qwen/Qwen2.5-VL-7B-Instruct\n",
            "ai21labs/AI21-Jamba-Large-1.6\n",
            "Kijai/HunyuanVideo_comfy\n",
            "unsloth/QwQ-32B-GGUF\n",
            "meta-llama/Llama-3.3-70B-Instruct\n",
            "qihoo360/Light-R1-32B\n",
            "Kijai/WanVideo_comfy\n",
            "CohereForAI/c4ai-command-r7b-arabic-02-2025\n",
            "meta-llama/Llama-3.1-8B-Instruct\n",
            "pipecat-ai/smart-turn\n",
            "deepseek-ai/DeepSeek-R1-Distill-Qwen-1.5B\n",
            "tensorart/stable-diffusion-3.5-large-TurboX\n",
            "microsoft/phi-4\n",
            "openai/whisper-large-v3\n",
            "EuroBERT/EuroBERT-210m\n",
            "openai/whisper-large-v3-turbo\n",
            "deepseek-ai/DeepSeek-V3\n",
            "BlinkDL/rwkv7-g1\n",
            "huihui-ai/QwQ-32B-abliterated\n",
            "meta-llama/Llama-3.2-3B-Instruct\n",
            "black-forest-labs/FLUX.1-schnell\n",
            "sentence-transformers/all-MiniLM-L6-v2\n",
            "EuroBERT/EuroBERT-2.1B\n",
            "ai21labs/AI21-Jamba-Mini-1.6\n",
            "peakji/steiner-32b-preview\n",
            "coqui/XTTS-v2\n",
            "Wan-AI/Wan2.1-T2V-1.3B\n",
            "deepseek-ai/Janus-Pro-7B\n",
            "lmstudio-community/QwQ-32B-GGUF\n",
            "tencent/HunyuanVideo\n",
            "dnotitia/DNA-R1\n",
            "ASLP-lab/DiffRhythm-vae\n",
            "amd/Instella-3B-Instruct\n",
            "OpenPipe/Deductive-Reasoning-Qwen-32B\n",
            "mistralai/Mistral-7B-Instruct-v0.3\n",
            "deepseek-ai/DeepSeek-R1-Distill-Qwen-32B\n",
            "Tower-Babel/Babel-9B-Chat\n",
            "TheDrummer/Cydonia-24B-v2.1\n",
            "ALLaM-AI/ALLaM-7B-Instruct-preview\n",
            "BAAI/bge-m3\n",
            "tencent/Hunyuan3D-2\n",
            "chandar-lab/NeoBERT\n",
            "amd/Instella-3B\n",
            "meta-llama/Llama-3.1-8B\n",
            "unsloth/DeepSeek-R1-GGUF\n",
            "Qwen/Qwen2.5-Coder-32B-Instruct\n",
            "stabilityai/stable-diffusion-xl-base-1.0\n",
            "qihoo360/TinyR1-32B-Preview\n",
            "strangerzonehf/Flux-Midjourney-Mix2-LoRA\n",
            "ibm-granite/granite-3.2-8b-instruct\n",
            "nvidia/DeepSeek-R1-FP4\n",
            "mlx-community/QwQ-32B-4bit\n",
            "zer0int/CLIP-Registers-Gated_MLP-ViT-L-14\n",
            "EuroBERT/EuroBERT-610m\n",
            "primecai/dsd_model\n",
            "meta-llama/Llama-3.2-1B-Instruct\n",
            "nomic-ai/nomic-embed-text-v2-moe\n",
            "convergence-ai/proxy-lite-3b\n",
            "city96/Wan2.1-I2V-14B-480P-gguf\n",
            "meta-llama/Llama-2-7b-chat-hf\n",
            "stabilityai/stable-diffusion-3.5-medium\n",
            "agentica-org/DeepScaleR-1.5B-Preview\n",
            "KRLabsOrg/lettucedect-large-modernbert-en-v1\n",
            "secemp9/TraceBack-12b\n",
            "Shakker-Labs/FLUX.1-dev-ControlNet-Union-Pro\n",
            "Comfy-Org/HunyuanVideo_repackaged\n",
            "openbmb/MiniCPM-o-2_6\n",
            "deepseek-ai/DeepSeek-R1-Distill-Llama-70B\n",
            "deepseek-ai/DeepSeek-R1-Distill-Qwen-7B\n",
            "Qwen/Qwen2.5-VL-3B-Instruct\n"
          ]
        }
      ],
      "source": [
        "#Fugging face models\n",
        "import requests\n",
        "def search_models(query, limit=100):\n",
        "  url = f\"https://huggingface.co/api/models?search={query}&limit={limit}\"\n",
        "  response = requests.get(url)\n",
        "  return response.json()\n",
        "\n",
        "models = search_models(\"\")\n",
        "for m in models:\n",
        "  print(m['id'])"
      ]
    },
    {
      "cell_type": "code",
      "execution_count": null,
      "metadata": {
        "colab": {
          "base_uri": "https://localhost:8080/"
        },
        "id": "TC9BGmcdk7VM",
        "outputId": "bcc48ea8-6087-46fe-bd4e-bb8f4670ae8b"
      },
      "outputs": [
        {
          "name": "stdout",
          "output_type": "stream",
          "text": [
            "Requirement already satisfied: openai in /usr/local/lib/python3.11/dist-packages (0.28.0)\n",
            "Requirement already satisfied: requests>=2.20 in /usr/local/lib/python3.11/dist-packages (from openai) (2.32.3)\n",
            "Requirement already satisfied: tqdm in /usr/local/lib/python3.11/dist-packages (from openai) (4.67.1)\n",
            "Requirement already satisfied: aiohttp in /usr/local/lib/python3.11/dist-packages (from openai) (3.11.13)\n",
            "Requirement already satisfied: charset-normalizer<4,>=2 in /usr/local/lib/python3.11/dist-packages (from requests>=2.20->openai) (3.4.1)\n",
            "Requirement already satisfied: idna<4,>=2.5 in /usr/local/lib/python3.11/dist-packages (from requests>=2.20->openai) (3.10)\n",
            "Requirement already satisfied: urllib3<3,>=1.21.1 in /usr/local/lib/python3.11/dist-packages (from requests>=2.20->openai) (2.3.0)\n",
            "Requirement already satisfied: certifi>=2017.4.17 in /usr/local/lib/python3.11/dist-packages (from requests>=2.20->openai) (2025.1.31)\n",
            "Requirement already satisfied: aiohappyeyeballs>=2.3.0 in /usr/local/lib/python3.11/dist-packages (from aiohttp->openai) (2.5.0)\n",
            "Requirement already satisfied: aiosignal>=1.1.2 in /usr/local/lib/python3.11/dist-packages (from aiohttp->openai) (1.3.2)\n",
            "Requirement already satisfied: attrs>=17.3.0 in /usr/local/lib/python3.11/dist-packages (from aiohttp->openai) (25.1.0)\n",
            "Requirement already satisfied: frozenlist>=1.1.1 in /usr/local/lib/python3.11/dist-packages (from aiohttp->openai) (1.5.0)\n",
            "Requirement already satisfied: multidict<7.0,>=4.5 in /usr/local/lib/python3.11/dist-packages (from aiohttp->openai) (6.1.0)\n",
            "Requirement already satisfied: propcache>=0.2.0 in /usr/local/lib/python3.11/dist-packages (from aiohttp->openai) (0.3.0)\n",
            "Requirement already satisfied: yarl<2.0,>=1.17.0 in /usr/local/lib/python3.11/dist-packages (from aiohttp->openai) (1.18.3)\n"
          ]
        }
      ],
      "source": [
        "# Import the necessary library for OpenAI\n",
        "!pip install openai --use-deprecated=legacy-resolver\n",
        "import openai\n",
        "\n",
        "from getpass import getpass\n",
        "api_key = \"OpenAI API key\"\n",
        "openai.api_key = api_key\n",
        "\n",
        "#OpenAi Models\n",
        "models = openai.Model.list()\n",
        "\n",
        "for model in models['data']:\n",
        "    print(model['id'])"
      ]
    },
    {
      "cell_type": "code",
      "execution_count": null,
      "metadata": {
        "colab": {
          "base_uri": "https://localhost:8080/"
        },
        "id": "A3bG9YNHlfY0",
        "outputId": "c9a410d7-619e-4ffa-93ff-9d3de3bbe5df"
      },
      "outputs": [
        {
          "name": "stdout",
          "output_type": "stream",
          "text": [
            "Requirement already satisfied: google-generativeai in /usr/local/lib/python3.11/dist-packages (0.8.4)\n",
            "Requirement already satisfied: google-ai-generativelanguage==0.6.15 in /usr/local/lib/python3.11/dist-packages (from google-generativeai) (0.6.15)\n",
            "Requirement already satisfied: google-api-core in /usr/local/lib/python3.11/dist-packages (from google-generativeai) (2.24.1)\n",
            "Requirement already satisfied: google-api-python-client in /usr/local/lib/python3.11/dist-packages (from google-generativeai) (2.160.0)\n",
            "Requirement already satisfied: google-auth>=2.15.0 in /usr/local/lib/python3.11/dist-packages (from google-generativeai) (2.38.0)\n",
            "Requirement already satisfied: protobuf in /usr/local/lib/python3.11/dist-packages (from google-generativeai) (4.25.6)\n",
            "Requirement already satisfied: pydantic in /usr/local/lib/python3.11/dist-packages (from google-generativeai) (2.10.6)\n",
            "Requirement already satisfied: tqdm in /usr/local/lib/python3.11/dist-packages (from google-generativeai) (4.67.1)\n",
            "Requirement already satisfied: typing-extensions in /usr/local/lib/python3.11/dist-packages (from google-generativeai) (4.12.2)\n",
            "Requirement already satisfied: proto-plus<2.0.0dev,>=1.22.3 in /usr/local/lib/python3.11/dist-packages (from google-ai-generativelanguage==0.6.15->google-generativeai) (1.26.0)\n",
            "Requirement already satisfied: googleapis-common-protos<2.0.dev0,>=1.56.2 in /usr/local/lib/python3.11/dist-packages (from google-api-core->google-generativeai) (1.69.0)\n",
            "Requirement already satisfied: requests<3.0.0.dev0,>=2.18.0 in /usr/local/lib/python3.11/dist-packages (from google-api-core->google-generativeai) (2.32.3)\n",
            "Requirement already satisfied: cachetools<6.0,>=2.0.0 in /usr/local/lib/python3.11/dist-packages (from google-auth>=2.15.0->google-generativeai) (5.5.2)\n",
            "Requirement already satisfied: pyasn1-modules>=0.2.1 in /usr/local/lib/python3.11/dist-packages (from google-auth>=2.15.0->google-generativeai) (0.4.1)\n",
            "Requirement already satisfied: rsa<5,>=3.1.4 in /usr/local/lib/python3.11/dist-packages (from google-auth>=2.15.0->google-generativeai) (4.9)\n",
            "Requirement already satisfied: httplib2<1.dev0,>=0.19.0 in /usr/local/lib/python3.11/dist-packages (from google-api-python-client->google-generativeai) (0.22.0)\n",
            "Requirement already satisfied: google-auth-httplib2<1.0.0,>=0.2.0 in /usr/local/lib/python3.11/dist-packages (from google-api-python-client->google-generativeai) (0.2.0)\n",
            "Requirement already satisfied: uritemplate<5,>=3.0.1 in /usr/local/lib/python3.11/dist-packages (from google-api-python-client->google-generativeai) (4.1.1)\n",
            "Requirement already satisfied: annotated-types>=0.6.0 in /usr/local/lib/python3.11/dist-packages (from pydantic->google-generativeai) (0.7.0)\n",
            "Requirement already satisfied: pydantic-core==2.27.2 in /usr/local/lib/python3.11/dist-packages (from pydantic->google-generativeai) (2.27.2)\n",
            "Requirement already satisfied: grpcio<2.0dev,>=1.33.2 in /usr/local/lib/python3.11/dist-packages (from google-api-core[grpc]!=2.0.*,!=2.1.*,!=2.10.*,!=2.2.*,!=2.3.*,!=2.4.*,!=2.5.*,!=2.6.*,!=2.7.*,!=2.8.*,!=2.9.*,<3.0.0dev,>=1.34.1->google-ai-generativelanguage==0.6.15->google-generativeai) (1.70.0)\n",
            "Requirement already satisfied: grpcio-status<2.0.dev0,>=1.33.2 in /usr/local/lib/python3.11/dist-packages (from google-api-core[grpc]!=2.0.*,!=2.1.*,!=2.10.*,!=2.2.*,!=2.3.*,!=2.4.*,!=2.5.*,!=2.6.*,!=2.7.*,!=2.8.*,!=2.9.*,<3.0.0dev,>=1.34.1->google-ai-generativelanguage==0.6.15->google-generativeai) (1.62.3)\n",
            "Requirement already satisfied: pyparsing!=3.0.0,!=3.0.1,!=3.0.2,!=3.0.3,<4,>=2.4.2 in /usr/local/lib/python3.11/dist-packages (from httplib2<1.dev0,>=0.19.0->google-api-python-client->google-generativeai) (3.2.1)\n",
            "Requirement already satisfied: pyasn1<0.7.0,>=0.4.6 in /usr/local/lib/python3.11/dist-packages (from pyasn1-modules>=0.2.1->google-auth>=2.15.0->google-generativeai) (0.6.1)\n",
            "Requirement already satisfied: charset-normalizer<4,>=2 in /usr/local/lib/python3.11/dist-packages (from requests<3.0.0.dev0,>=2.18.0->google-api-core->google-generativeai) (3.4.1)\n",
            "Requirement already satisfied: idna<4,>=2.5 in /usr/local/lib/python3.11/dist-packages (from requests<3.0.0.dev0,>=2.18.0->google-api-core->google-generativeai) (3.10)\n",
            "Requirement already satisfied: urllib3<3,>=1.21.1 in /usr/local/lib/python3.11/dist-packages (from requests<3.0.0.dev0,>=2.18.0->google-api-core->google-generativeai) (2.3.0)\n",
            "Requirement already satisfied: certifi>=2017.4.17 in /usr/local/lib/python3.11/dist-packages (from requests<3.0.0.dev0,>=2.18.0->google-api-core->google-generativeai) (2025.1.31)\n"
          ]
        }
      ],
      "source": [
        "# Import the necessary library for Gemini\n",
        "!pip install google-generativeai\n",
        "import google.generativeai as genai\n",
        "\n",
        "#Gemini models\n",
        "API_KEY = \"Gemini API key\"\n",
        "genai.configure(api_key=API_KEY)\n",
        "\n",
        "for m in genai.list_models():\n",
        "  if 'generateContent' in m.supported_generation_methods:\n",
        "    print(m.name)"
      ]
    }
  ],
  "metadata": {
    "colab": {
      "authorship_tag": "ABX9TyOBC3tMeIt/XqRsKHa6dOcT",
      "include_colab_link": true,
      "provenance": []
    },
    "kernelspec": {
      "display_name": "Python 3",
      "name": "python3"
    },
    "language_info": {
      "name": "python"
    }
  },
  "nbformat": 4,
  "nbformat_minor": 0
}
