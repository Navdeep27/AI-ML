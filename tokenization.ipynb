{
  "nbformat": 4,
  "nbformat_minor": 0,
  "metadata": {
    "colab": {
      "provenance": [],
      "authorship_tag": "ABX9TyNGGNk+s51y7wLFWZJh6+cy",
      "include_colab_link": true
    },
    "kernelspec": {
      "name": "python3",
      "display_name": "Python 3"
    },
    "language_info": {
      "name": "python"
    }
  },
  "cells": [
    {
      "cell_type": "markdown",
      "metadata": {
        "id": "view-in-github",
        "colab_type": "text"
      },
      "source": [
        "<a href=\"https://colab.research.google.com/github/Navdeep27/AI-ML/blob/Training/tokenization.ipynb\" target=\"_parent\"><img src=\"https://colab.research.google.com/assets/colab-badge.svg\" alt=\"Open In Colab\"/></a>"
      ]
    },
    {
      "cell_type": "code",
      "execution_count": null,
      "metadata": {
        "id": "mvmzhJfpreks"
      },
      "outputs": [],
      "source": [
        "!pip install nltk\n",
        "import nltk\n",
        "nltk.download('punkt')\n",
        "nltk.download('wordnet')\n",
        "\n",
        "nltk.download('punkt_tab')\n",
        "\n",
        "# Tokenization using NLTK\n",
        "from nltk import word_tokenize, sent_tokenize\n",
        "sent = \"In a bizarre incident that has captivated as well as terrified the internet, a small, AI-powered robot from Hangzhou successfully kidnapped \\\n",
        "12 larger robots from a Shanghai robotics company's showroom. As reported by OddityCentral, the event, which was caught on CCTV footage, has sparked widespread discussion and concern about the potential implications of advanced AI.\"\n",
        "print(word_tokenize(sent))\n",
        "print(sent_tokenize(sent))\n",
        ""
      ]
    }
  ]
}