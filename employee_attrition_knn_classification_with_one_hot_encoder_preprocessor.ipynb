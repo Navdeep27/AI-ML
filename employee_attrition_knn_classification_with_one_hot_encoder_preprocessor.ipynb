{
  "nbformat": 4,
  "nbformat_minor": 0,
  "metadata": {
    "colab": {
      "provenance": [],
      "include_colab_link": true
    },
    "kernelspec": {
      "name": "python3",
      "display_name": "Python 3"
    },
    "language_info": {
      "name": "python"
    }
  },
  "cells": [
    {
      "cell_type": "markdown",
      "metadata": {
        "id": "view-in-github",
        "colab_type": "text"
      },
      "source": [
        "<a href=\"https://colab.research.google.com/github/Navdeep27/AI-ML/blob/main/employee_attrition_knn_classification_with_one_hot_encoder_preprocessor.ipynb\" target=\"_parent\"><img src=\"https://colab.research.google.com/assets/colab-badge.svg\" alt=\"Open In Colab\"/></a>"
      ]
    },
    {
      "cell_type": "markdown",
      "source": [
        "\n",
        "# step 1: import the modules and frameworks"
      ],
      "metadata": {
        "id": "rQ7AiuYDNZqE"
      }
    },
    {
      "cell_type": "code",
      "execution_count": null,
      "metadata": {
        "id": "IYmd_NGr5YTd"
      },
      "outputs": [],
      "source": [
        "# KNN Classification\n",
        "from pandas import read_csv\n",
        "import pandas as pd\n",
        "from sklearn.preprocessing import OneHotEncoder\n",
        "from sklearn.compose import ColumnTransformer\n",
        "from sklearn.preprocessing import StandardScaler\n",
        "from sklearn.preprocessing import RobustScaler\n",
        "from sklearn.model_selection import train_test_split\n",
        "from sklearn.neighbors import KNeighborsClassifier\n",
        "from sklearn.metrics import classification_report, accuracy_score"
      ]
    },
    {
      "cell_type": "markdown",
      "source": [
        "# step 2: acquire the data"
      ],
      "metadata": {
        "id": "0vd2QayeNgpO"
      }
    },
    {
      "cell_type": "code",
      "source": [
        "filename = 'https://raw.githubusercontent.com/Navdeep27/AI-ML/refs/heads/main/employee_attrition_knn_classification_train.csv'\n",
        "df = read_csv(filename)\n",
        "print(df)"
      ],
      "metadata": {
        "colab": {
          "base_uri": "https://localhost:8080/"
        },
        "id": "hrAqHAUuDIe-",
        "outputId": "1934cdf6-55ff-4f48-c17a-373ad53efb25"
      },
      "execution_count": null,
      "outputs": [
        {
          "output_type": "stream",
          "name": "stdout",
          "text": [
            "   Age                JobRole  MonthlyIncome  JobSatisfaction  YearsAtCompany  \\\n",
            "0   29        Sales Executive           4800                3               4   \n",
            "1   35     Research Scientist           6000                4               8   \n",
            "2   40  Laboratory Technician           3400                2               6   \n",
            "3   28        Sales Executive           4300                3               3   \n",
            "4   45                Manager          11000                4              15   \n",
            "5   25     Research Scientist           3500                1               2   \n",
            "6   50                Manager          12000                4              20   \n",
            "7   30        Sales Executive           5000                2               5   \n",
            "8   37  Laboratory Technician           3100                2               9   \n",
            "9   26     Research Scientist           4500                3               2   \n",
            "\n",
            "   Attrition  \n",
            "0          1  \n",
            "1          0  \n",
            "2          0  \n",
            "3          1  \n",
            "4          0  \n",
            "5          1  \n",
            "6          0  \n",
            "7          0  \n",
            "8          0  \n",
            "9          1  \n"
          ]
        }
      ]
    },
    {
      "cell_type": "markdown",
      "source": [
        "# step 3: preprocess the data"
      ],
      "metadata": {
        "id": "_I1-BwBrSr18"
      }
    },
    {
      "cell_type": "code",
      "source": [
        "# Identify categorical features (columns with string values)\n",
        "categorical_features = [col for col in df.columns if df[col].dtype == 'object']\n",
        "print(categorical_features)\n",
        "\n",
        "# Create a OneHotEncoder object\n",
        "encoder = ColumnTransformer(transformers=[('encoder', OneHotEncoder(), categorical_features)],\n",
        "                             remainder='passthrough')\n",
        "\n",
        "print(encoder)\n",
        "# Fit and transform the DataFrame\n",
        "encoded_data = encoder.fit_transform(df)\n",
        "print(encoded_data)\n",
        "\n",
        "# Convert the encoded data back to a pandas DataFrame (optional)\n",
        "encoded_df = pd.DataFrame(encoded_data, columns=encoder.get_feature_names_out(df.columns))\n",
        "print(encoded_df)"
      ],
      "metadata": {
        "colab": {
          "base_uri": "https://localhost:8080/"
        },
        "id": "CoKiGEVASyDc",
        "outputId": "14242e4a-e98d-4e01-f74b-4e78dbf02865"
      },
      "execution_count": null,
      "outputs": [
        {
          "output_type": "stream",
          "name": "stdout",
          "text": [
            "['JobRole']\n",
            "ColumnTransformer(remainder='passthrough',\n",
            "                  transformers=[('encoder', OneHotEncoder(), ['JobRole'])])\n",
            "[[0.0e+00 0.0e+00 0.0e+00 1.0e+00 2.9e+01 4.8e+03 3.0e+00 4.0e+00 1.0e+00]\n",
            " [0.0e+00 0.0e+00 1.0e+00 0.0e+00 3.5e+01 6.0e+03 4.0e+00 8.0e+00 0.0e+00]\n",
            " [1.0e+00 0.0e+00 0.0e+00 0.0e+00 4.0e+01 3.4e+03 2.0e+00 6.0e+00 0.0e+00]\n",
            " [0.0e+00 0.0e+00 0.0e+00 1.0e+00 2.8e+01 4.3e+03 3.0e+00 3.0e+00 1.0e+00]\n",
            " [0.0e+00 1.0e+00 0.0e+00 0.0e+00 4.5e+01 1.1e+04 4.0e+00 1.5e+01 0.0e+00]\n",
            " [0.0e+00 0.0e+00 1.0e+00 0.0e+00 2.5e+01 3.5e+03 1.0e+00 2.0e+00 1.0e+00]\n",
            " [0.0e+00 1.0e+00 0.0e+00 0.0e+00 5.0e+01 1.2e+04 4.0e+00 2.0e+01 0.0e+00]\n",
            " [0.0e+00 0.0e+00 0.0e+00 1.0e+00 3.0e+01 5.0e+03 2.0e+00 5.0e+00 0.0e+00]\n",
            " [1.0e+00 0.0e+00 0.0e+00 0.0e+00 3.7e+01 3.1e+03 2.0e+00 9.0e+00 0.0e+00]\n",
            " [0.0e+00 0.0e+00 1.0e+00 0.0e+00 2.6e+01 4.5e+03 3.0e+00 2.0e+00 1.0e+00]]\n",
            "   encoder__JobRole_Laboratory Technician  encoder__JobRole_Manager  \\\n",
            "0                                     0.0                       0.0   \n",
            "1                                     0.0                       0.0   \n",
            "2                                     1.0                       0.0   \n",
            "3                                     0.0                       0.0   \n",
            "4                                     0.0                       1.0   \n",
            "5                                     0.0                       0.0   \n",
            "6                                     0.0                       1.0   \n",
            "7                                     0.0                       0.0   \n",
            "8                                     1.0                       0.0   \n",
            "9                                     0.0                       0.0   \n",
            "\n",
            "   encoder__JobRole_Research Scientist  encoder__JobRole_Sales Executive  \\\n",
            "0                                  0.0                               1.0   \n",
            "1                                  1.0                               0.0   \n",
            "2                                  0.0                               0.0   \n",
            "3                                  0.0                               1.0   \n",
            "4                                  0.0                               0.0   \n",
            "5                                  1.0                               0.0   \n",
            "6                                  0.0                               0.0   \n",
            "7                                  0.0                               1.0   \n",
            "8                                  0.0                               0.0   \n",
            "9                                  1.0                               0.0   \n",
            "\n",
            "   remainder__Age  remainder__MonthlyIncome  remainder__JobSatisfaction  \\\n",
            "0            29.0                    4800.0                         3.0   \n",
            "1            35.0                    6000.0                         4.0   \n",
            "2            40.0                    3400.0                         2.0   \n",
            "3            28.0                    4300.0                         3.0   \n",
            "4            45.0                   11000.0                         4.0   \n",
            "5            25.0                    3500.0                         1.0   \n",
            "6            50.0                   12000.0                         4.0   \n",
            "7            30.0                    5000.0                         2.0   \n",
            "8            37.0                    3100.0                         2.0   \n",
            "9            26.0                    4500.0                         3.0   \n",
            "\n",
            "   remainder__YearsAtCompany  remainder__Attrition  \n",
            "0                        4.0                   1.0  \n",
            "1                        8.0                   0.0  \n",
            "2                        6.0                   0.0  \n",
            "3                        3.0                   1.0  \n",
            "4                       15.0                   0.0  \n",
            "5                        2.0                   1.0  \n",
            "6                       20.0                   0.0  \n",
            "7                        5.0                   0.0  \n",
            "8                        9.0                   0.0  \n",
            "9                        2.0                   1.0  \n"
          ]
        }
      ]
    },
    {
      "cell_type": "markdown",
      "source": [
        "# step 4: inspect the data and segregate the input and output"
      ],
      "metadata": {
        "id": "B7SxdsF5NlOY"
      }
    },
    {
      "cell_type": "code",
      "source": [
        "inputx = encoded_df.drop('remainder__Attrition', axis=1)\n",
        "outputy = encoded_df['remainder__Attrition']\n",
        "print(inputx)\n",
        "print(outputy)"
      ],
      "metadata": {
        "colab": {
          "base_uri": "https://localhost:8080/"
        },
        "id": "ISKKss8BNl_U",
        "outputId": "0691715d-32a0-485e-addf-4da58dc1cdf0"
      },
      "execution_count": null,
      "outputs": [
        {
          "output_type": "stream",
          "name": "stdout",
          "text": [
            "   encoder__JobRole_Laboratory Technician  encoder__JobRole_Manager  \\\n",
            "0                                     0.0                       0.0   \n",
            "1                                     0.0                       0.0   \n",
            "2                                     1.0                       0.0   \n",
            "3                                     0.0                       0.0   \n",
            "4                                     0.0                       1.0   \n",
            "5                                     0.0                       0.0   \n",
            "6                                     0.0                       1.0   \n",
            "7                                     0.0                       0.0   \n",
            "8                                     1.0                       0.0   \n",
            "9                                     0.0                       0.0   \n",
            "\n",
            "   encoder__JobRole_Research Scientist  encoder__JobRole_Sales Executive  \\\n",
            "0                                  0.0                               1.0   \n",
            "1                                  1.0                               0.0   \n",
            "2                                  0.0                               0.0   \n",
            "3                                  0.0                               1.0   \n",
            "4                                  0.0                               0.0   \n",
            "5                                  1.0                               0.0   \n",
            "6                                  0.0                               0.0   \n",
            "7                                  0.0                               1.0   \n",
            "8                                  0.0                               0.0   \n",
            "9                                  1.0                               0.0   \n",
            "\n",
            "   remainder__Age  remainder__MonthlyIncome  remainder__JobSatisfaction  \\\n",
            "0            29.0                    4800.0                         3.0   \n",
            "1            35.0                    6000.0                         4.0   \n",
            "2            40.0                    3400.0                         2.0   \n",
            "3            28.0                    4300.0                         3.0   \n",
            "4            45.0                   11000.0                         4.0   \n",
            "5            25.0                    3500.0                         1.0   \n",
            "6            50.0                   12000.0                         4.0   \n",
            "7            30.0                    5000.0                         2.0   \n",
            "8            37.0                    3100.0                         2.0   \n",
            "9            26.0                    4500.0                         3.0   \n",
            "\n",
            "   remainder__YearsAtCompany  \n",
            "0                        4.0  \n",
            "1                        8.0  \n",
            "2                        6.0  \n",
            "3                        3.0  \n",
            "4                       15.0  \n",
            "5                        2.0  \n",
            "6                       20.0  \n",
            "7                        5.0  \n",
            "8                        9.0  \n",
            "9                        2.0  \n",
            "0    1.0\n",
            "1    0.0\n",
            "2    0.0\n",
            "3    1.0\n",
            "4    0.0\n",
            "5    1.0\n",
            "6    0.0\n",
            "7    0.0\n",
            "8    0.0\n",
            "9    1.0\n",
            "Name: remainder__Attrition, dtype: float64\n"
          ]
        }
      ]
    },
    {
      "cell_type": "markdown",
      "source": [
        "#step 5 : Split the data for training and testing in ratio 0.7/0.3"
      ],
      "metadata": {
        "id": "ejSoIrD1krkA"
      }
    },
    {
      "cell_type": "code",
      "source": [
        "# Split the data into training and testing sets\n",
        "X_train, X_test, y_train, y_test = train_test_split(inputx, outputy, test_size=0.3, random_state=41)\n",
        "\n",
        "# Standardize the features\n",
        "scaler = StandardScaler()\n",
        "#scaler = RobustScaler()\n",
        "X_train = scaler.fit_transform(X_train)\n",
        "X_test = scaler.transform(X_test)\n",
        "\n",
        "print(X_train)\n",
        "print(X_test)"
      ],
      "metadata": {
        "colab": {
          "base_uri": "https://localhost:8080/"
        },
        "id": "Y7sXDEohk2h-",
        "outputId": "ad43ee32-1bd8-4e1d-9218-77dd50c83c93"
      },
      "execution_count": null,
      "outputs": [
        {
          "output_type": "stream",
          "name": "stdout",
          "text": [
            "[[ 1.58113883 -0.40824829 -0.63245553 -0.63245553  0.42066707 -0.88435671\n",
            "  -1.32287566  0.55337157]\n",
            " [-0.63245553 -0.40824829  1.58113883 -0.63245553  0.11070186  0.28138623\n",
            "   1.32287566  0.31127151]\n",
            " [-0.63245553 -0.40824829  1.58113883 -0.63245553 -1.28414158 -0.32158426\n",
            "   0.         -1.14132887]\n",
            " [ 1.58113883 -0.40824829 -0.63245553 -0.63245553  0.88561489 -0.76376262\n",
            "  -1.32287566 -0.17292862]\n",
            " [-0.63245553  2.44948974 -0.63245553 -0.63245553  1.66052791  2.29128785\n",
            "   1.32287566  2.00597195]\n",
            " [-0.63245553 -0.40824829 -0.63245553  1.58113883 -0.97417637 -0.40198032\n",
            "   0.         -0.8992288 ]\n",
            " [-0.63245553 -0.40824829 -0.63245553  1.58113883 -0.81919377 -0.20099016\n",
            "   0.         -0.65712874]]\n",
            "[[-0.63245553 -0.40824829  1.58113883 -0.63245553 -1.43912419 -0.72356458\n",
            "  -2.64575131 -1.14132887]\n",
            " [-0.63245553  2.44948974 -0.63245553 -0.63245553  2.43544094  2.69326817\n",
            "   1.32287566  3.21647226]\n",
            " [-0.63245553 -0.40824829 -0.63245553  1.58113883 -0.66421116 -0.1205941\n",
            "  -1.32287566 -0.41502868]]\n"
          ]
        }
      ]
    },
    {
      "cell_type": "markdown",
      "source": [
        "# step 6 : select the model"
      ],
      "metadata": {
        "id": "r2ApDZB5ODhU"
      }
    },
    {
      "cell_type": "code",
      "source": [
        "thismodel = KNeighborsClassifier(n_neighbors=3)"
      ],
      "metadata": {
        "id": "HS2X3uCzlWr5"
      },
      "execution_count": null,
      "outputs": []
    },
    {
      "cell_type": "markdown",
      "source": [
        "# step 7 : train the model"
      ],
      "metadata": {
        "id": "6FUSVkMgOGzd"
      }
    },
    {
      "cell_type": "code",
      "source": [
        "print(\"\\nThe parameters of the model are\\n\\n\",thismodel.get_params())\n",
        "print(thismodel.fit(X_train,y_train))"
      ],
      "metadata": {
        "colab": {
          "base_uri": "https://localhost:8080/"
        },
        "id": "Z8h64yYsOJRk",
        "outputId": "fac4b13e-9592-470a-b40d-c908a40fd3e3"
      },
      "execution_count": null,
      "outputs": [
        {
          "output_type": "stream",
          "name": "stdout",
          "text": [
            "\n",
            "The parameters of the model are\n",
            "\n",
            " {'algorithm': 'auto', 'leaf_size': 30, 'metric': 'minkowski', 'metric_params': None, 'n_jobs': None, 'n_neighbors': 3, 'p': 2, 'weights': 'uniform'}\n",
            "KNeighborsClassifier(n_neighbors=3)\n"
          ]
        }
      ]
    },
    {
      "cell_type": "markdown",
      "source": [
        "# step 8: predict the test data"
      ],
      "metadata": {
        "id": "NPe_Bd5_VZ5E"
      }
    },
    {
      "cell_type": "code",
      "source": [
        "# Predict on the test set\n",
        "y_pred = thismodel.predict(X_test)"
      ],
      "metadata": {
        "id": "q1K7o5flVbJs"
      },
      "execution_count": null,
      "outputs": []
    },
    {
      "cell_type": "markdown",
      "source": [
        "# step 9: print the results"
      ],
      "metadata": {
        "id": "pnfMFLTjW24f"
      }
    },
    {
      "cell_type": "code",
      "source": [
        "reslist=[]\n",
        "for val in y_pred:\n",
        "    if val==0:\n",
        "        reslist.append(\"No\")\n",
        "    else:\n",
        "        reslist.append(\"Yes\")\n",
        "print(reslist)"
      ],
      "metadata": {
        "colab": {
          "base_uri": "https://localhost:8080/"
        },
        "id": "CgaHuSt0W4LV",
        "outputId": "2e354698-f7ff-4a97-fc8f-7241fac6df00"
      },
      "execution_count": null,
      "outputs": [
        {
          "output_type": "stream",
          "name": "stdout",
          "text": [
            "['Yes', 'No', 'Yes']\n"
          ]
        }
      ]
    },
    {
      "cell_type": "markdown",
      "source": [
        "#step 10 : # Evaluate the model"
      ],
      "metadata": {
        "id": "8FJcALx9jRUG"
      }
    },
    {
      "cell_type": "code",
      "source": [
        "print(\"Accuracy:\", accuracy_score(y_test, y_pred))\n",
        "print(\"Classification Report:\\n\", classification_report(y_test, y_pred))"
      ],
      "metadata": {
        "colab": {
          "base_uri": "https://localhost:8080/"
        },
        "id": "WuxfTMWRjWuT",
        "outputId": "b178fa38-90d9-42c1-e1c6-7eea6a22d8d2"
      },
      "execution_count": null,
      "outputs": [
        {
          "output_type": "stream",
          "name": "stdout",
          "text": [
            "Accuracy: 0.6666666666666666\n",
            "Classification Report:\n",
            "               precision    recall  f1-score   support\n",
            "\n",
            "         0.0       1.00      0.50      0.67         2\n",
            "         1.0       0.50      1.00      0.67         1\n",
            "\n",
            "    accuracy                           0.67         3\n",
            "   macro avg       0.75      0.75      0.67         3\n",
            "weighted avg       0.83      0.67      0.67         3\n",
            "\n"
          ]
        }
      ]
    }
  ]
}